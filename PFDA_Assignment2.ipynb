{
 "cells": [
  {
   "cell_type": "markdown",
   "metadata": {},
   "source": [
    "# Programming for Data Analysis Assignment 2\n",
    "### Tatjana Staunton"
   ]
  },
  {
   "cell_type": "markdown",
   "metadata": {},
   "source": [
    ">Task for this Assignment is:\n",
    "\n",
    ">Analyse CO2 vs Temperature Anomaly from 800kyrs – present.\n",
    "\n",
    ">• Examine one other (paleo/modern) features (e.g. CH4 or polar ice-coverage)\n",
    "\n",
    ">• Examine Irish context:\n",
    "\n",
    "> Climate change signals: (see Maynooth study: The emergence of a climate change\n",
    "signal in long-term Irish meteorological observations - ScienceDirect)\n",
    "\n",
    ">• Fuse and analyse data from various data sources and format fused data set as a pandas\n",
    "dataframe and export to csv and json formats\n",
    "\n",
    ">• For all of the above variables, analyse the data, the trends and the relationships between\n",
    "them (temporal leads/lags/frequency analysis).\n",
    "\n",
    ">• Predict global temperature anomaly over next few decades (synthesise data) and compare to\n",
    "published climate models if atmospheric CO2 trends continue\n",
    "\n",
    ">• Comment on accelerated warming based on very latest features (e.g. temperature/polar-icecoverage)"
   ]
  },
  {
   "cell_type": "code",
   "execution_count": null,
   "metadata": {},
   "outputs": [],
   "source": []
  }
 ],
 "metadata": {
  "language_info": {
   "name": "python"
  }
 },
 "nbformat": 4,
 "nbformat_minor": 2
}
